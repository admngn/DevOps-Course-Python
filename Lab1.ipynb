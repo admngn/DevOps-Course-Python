{
 "cells": [
  {
   "cell_type": "markdown",
   "metadata": {},
   "source": [
    "Install Libraries"
   ]
  },
  {
   "cell_type": "code",
   "execution_count": 2,
   "metadata": {},
   "outputs": [],
   "source": [
    "# Uncomment the lines below to install necessary libraries if they are not already installed\n",
    "\n",
    "# !pip install numpy pandas requests"
   ]
  },
  {
   "cell_type": "markdown",
   "metadata": {},
   "source": [
    "\n",
    "\n",
    "## **Lab Exercise: Putting It All Together**\n",
    "\n",
    "Now it's time to apply what you've learned! This lab exercise is designed to take approximately **15 minutes**.\n",
    "\n",
    "### **Exercise Instructions**\n",
    "\n",
    "You will create a simple program that:\n",
    "\n",
    "1. **Reads data from a CSV file.** If you don't have a CSV file, you can use the provided sample data.\n",
    "2. **Processes the data using Pandas and NumPy.**\n",
    "3. **Defines and uses functions and classes.**\n",
    "4. **Performs data analysis and outputs results.**\n",
    "\n",
    "### **Steps**\n",
    "\n",
    "#### **a. Create or Load a CSV File**\n",
    "\n",
    "- Create a CSV file named `students.csv` with the following content:\n",
    "\n",
    "```\n",
    "columns: Name,Math,Science,English\n",
    "rows:\n",
    "Alice,85,90,95\n",
    "Bob,75,80,70\n",
    "Charlie,95,100,100\n",
    "Diana,65,70,60\n",
    "Edward,80,85,88\n",
    "```\n",
    "use `df.to_csv(filename, index=False)` to save dataframe as csv\n"
   ]
  },
  {
   "cell_type": "code",
   "execution_count": 21,
   "metadata": {},
   "outputs": [],
   "source": [
    "# Sample code to create the CSV file\n",
    "import pandas as pd\n",
    "import csv\n",
    "\n",
    "# Créer un fichier CSV avec les données des étudiants\n",
    "with open('student.csv', 'w', newline='') as file:\n",
    "    writer = csv.writer(file)\n",
    "    # Écrire l'en-tête\n",
    "    field = [\"Name\", \"Math\", \"Science\", \"English\"]\n",
    "    writer.writerow(field)\n",
    "    # Écrire les lignes de données\n",
    "    writer.writerow([\"Alice\", \"85\", \"90\", \"95\"])\n",
    "    writer.writerow([\"Bob\", \"75\", \"80\", \"70\"])\n",
    "    writer.writerow([\"Charlie\", \"95\", \"100\", \"100\"])\n",
    "    writer.writerow([\"Diana\", \"65\", \"70\", \"60\"])\n",
    "    writer.writerow([\"Edward\", \"80\", \"85\", \"88\"])\n",
    "\n",
    "# Charger le fichier CSV dans un DataFrame Pandas\n"
   ]
  },
  {
   "cell_type": "markdown",
   "metadata": {},
   "source": [
    "#### **b. Read the CSV File into a DataFrame**\n",
    "df = pd.read_csv(filename)"
   ]
  },
  {
   "cell_type": "code",
   "execution_count": 22,
   "metadata": {},
   "outputs": [
    {
     "name": "stdout",
     "output_type": "stream",
     "text": [
      "Students Data:\n",
      "       Name  Math  Science  English\n",
      "0    Alice    85       90       95\n",
      "1      Bob    75       80       70\n",
      "2  Charlie    95      100      100\n",
      "3    Diana    65       70       60\n",
      "4   Edward    80       85       88\n"
     ]
    }
   ],
   "source": [
    "# Read the CSV file\n",
    "# Complete the code here\n",
    "\n",
    "df = pd.read_csv(\"student.csv\")\n",
    "\n",
    "print(\"Students Data:\\n\", df)"
   ]
  },
  {
   "cell_type": "markdown",
   "metadata": {},
   "source": [
    "#### **c. Calculate the Average Score for Each Student**\n",
    "\n",
    "- Use a lambda function to calculate the average score across subjects."
   ]
  },
  {
   "cell_type": "code",
   "execution_count": 26,
   "metadata": {},
   "outputs": [
    {
     "name": "stdout",
     "output_type": "stream",
     "text": [
      "Data with Average Scores:\n",
      "       Name  Math  Science  English    Average Grade\n",
      "0    Alice    85       90       95  90.000000     A\n",
      "1      Bob    75       80       70  75.000000     C\n",
      "2  Charlie    95      100      100  98.333333     A\n",
      "3    Diana    65       70       60  65.000000     D\n",
      "4   Edward    80       85       88  84.333333     B\n"
     ]
    }
   ],
   "source": [
    "# Calculate average score\n",
    "df['Average'] = df[['Math', 'Science', 'English']].mean(axis=1)\n",
    "print(\"Data with Average Scores:\\n\", df)"
   ]
  },
  {
   "cell_type": "markdown",
   "metadata": {},
   "source": [
    "#### **d. Determine the Grade for Each Student**\n",
    "\n",
    "- Define a function that assigns a grade based on the average score:\n",
    "\n",
    "  - 90 and above: 'A'\n",
    "  - 80-89: 'B'\n",
    "  - 70-79: 'C'\n",
    "  - 60-69: 'D'\n",
    "  - Below 60: 'F'"
   ]
  },
  {
   "cell_type": "code",
   "execution_count": 27,
   "metadata": {},
   "outputs": [
    {
     "name": "stdout",
     "output_type": "stream",
     "text": [
      "Data with Grades:\n",
      "       Name  Math  Science  English    Average Grade\n",
      "0    Alice    85       90       95  90.000000     A\n",
      "1      Bob    75       80       70  75.000000     C\n",
      "2  Charlie    95      100      100  98.333333     A\n",
      "3    Diana    65       70       60  65.000000     D\n",
      "4   Edward    80       85       88  84.333333     B\n"
     ]
    }
   ],
   "source": [
    "# Function to determine grade\n",
    "def assign_grade(average):\n",
    "    if average >= 90:\n",
    "        return 'A'\n",
    "    elif 80 <= average < 90:\n",
    "        return 'B'\n",
    "    elif 70 <= average < 80:\n",
    "        return 'C'\n",
    "    elif 60 <= average < 70:\n",
    "        return 'D'\n",
    "    else:\n",
    "        return 'F'\n",
    "    \n",
    "\n",
    "# Apply the function to assign grades\n",
    "df['Grade'] = df['Average'].apply(assign_grade)\n",
    "print(\"Data with Grades:\\n\", df)"
   ]
  },
  {
   "cell_type": "markdown",
   "metadata": {},
   "source": [
    "#### **e. Create a Class to Represent Each Student**\n",
    "\n",
    "- Define a `Student` class with attributes for name and scores, and methods to calculate the average and grade."
   ]
  },
  {
   "cell_type": "code",
   "execution_count": 30,
   "metadata": {},
   "outputs": [],
   "source": [
    "class Student:\n",
    "    def __init__(self, name, math, science, english):\n",
    "       \n",
    "        self.name = name\n",
    "        self.math = math\n",
    "        self.science = science\n",
    "        self.english = english\n",
    "        self.average = 0\n",
    "        self.grade = \"\"\n",
    "\n",
    "    def calculate_average(self):\n",
    "        \n",
    "        self.average = (self.math + self.science + self.english) / 3\n",
    "        return self.average\n",
    "\n",
    "    def assign_grade(self):\n",
    "        \n",
    "        if self.average >= 90:\n",
    "            self.grade = 'A'\n",
    "        elif 80 <= self.average < 90:\n",
    "            self.grade = 'B'\n",
    "        elif 70 <= self.average < 80:\n",
    "            self.grade = 'C'\n",
    "        elif 60 <= self.average < 70:\n",
    "            self.grade = 'D'\n",
    "        else:\n",
    "            self.grade = 'F'\n",
    "        return self.grade\n",
    "\n",
    "\n",
    "    "
   ]
  },
  {
   "cell_type": "markdown",
   "metadata": {},
   "source": [
    "#### **f. Create Instances of the `Student` Class and Display Results**\n"
   ]
  },
  {
   "cell_type": "code",
   "execution_count": 33,
   "metadata": {},
   "outputs": [
    {
     "name": "stdout",
     "output_type": "stream",
     "text": [
      "Name: Alice, Average: 90.00, Grade: A\n",
      "Name: Bob, Average: 75.00, Grade: C\n",
      "Name: Charlie, Average: 98.33, Grade: A\n",
      "Name: Diana, Average: 65.00, Grade: D\n",
      "Name: Edward, Average: 84.33, Grade: B\n"
     ]
    }
   ],
   "source": [
    "# List to store student objects\n",
    "students = []\n",
    "\n",
    "# Iterate through the DataFrame and create Student objects\n",
    "for index, row in df.iterrows():\n",
    "    student = Student(row['Name'], row['Math'], row['Science'], row['English'])\n",
    "    students.append(student)\n",
    "\n",
    "# Display each student's details\n",
    "for student in students:\n",
    "    avg = student.calculate_average()\n",
    "    grade = student.assign_grade()\n",
    "    print(f\"Name: {student.name}, Average: {avg:.2f}, Grade: {grade}\")"
   ]
  },
  {
   "cell_type": "markdown",
   "metadata": {},
   "source": [
    "#### **g. Save the Updated Data to a New CSV File**"
   ]
  },
  {
   "cell_type": "code",
   "execution_count": 34,
   "metadata": {},
   "outputs": [
    {
     "name": "stdout",
     "output_type": "stream",
     "text": [
      "Updated data saved to 'students_updated.csv'\n"
     ]
    }
   ],
   "source": [
    "# Save the DataFrame with new columns to a CSV file\n",
    "df.to_csv('students_updated.csv', index=False)\n",
    "print(\"Updated data saved to 'students_updated.csv'\")"
   ]
  },
  {
   "cell_type": "markdown",
   "metadata": {},
   "source": [
    "### **Challenge Task (Optional)**\n",
    "- Use the `requests` library to fetch current exchange rates from an API and convert the average scores to another scale (e.g., out of 100 to GPA scale)."
   ]
  },
  {
   "cell_type": "code",
   "execution_count": null,
   "metadata": {},
   "outputs": [],
   "source": []
  }
 ],
 "metadata": {
  "kernelspec": {
   "display_name": "venv-ops",
   "language": "python",
   "name": "python3"
  },
  "language_info": {
   "codemirror_mode": {
    "name": "ipython",
    "version": 3
   },
   "file_extension": ".py",
   "mimetype": "text/x-python",
   "name": "python",
   "nbconvert_exporter": "python",
   "pygments_lexer": "ipython3",
   "version": "3.10.12"
  }
 },
 "nbformat": 4,
 "nbformat_minor": 2
}
