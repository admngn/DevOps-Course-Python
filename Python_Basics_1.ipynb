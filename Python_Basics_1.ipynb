{
 "cells": [
  {
   "cell_type": "markdown",
   "metadata": {},
   "source": [
    "# **Get Started with Python**\n",
    "\n",
    "Welcome to the \"Get Started with Python\" notebook! This tutorial will guide you through the fundamentals of Python programming, from basic syntax to data processing with Pandas and NumPy.\n",
    "\n",
    "---\n",
    "\n",
    "## **0. Install Libraries**\n",
    "\n",
    "Before we begin, let's ensure that all the necessary libraries are installed. We'll be using `numpy`, `pandas`, and `requests` in later sections."
   ]
  },
  {
   "cell_type": "code",
   "execution_count": 7,
   "metadata": {},
   "outputs": [],
   "source": [
    "# Uncomment the lines below to install necessary libraries if they are not already installed\n",
    "\n",
    "# !pip install numpy pandas requests"
   ]
  },
  {
   "cell_type": "markdown",
   "metadata": {},
   "source": [
    "## **1. Python Basics**\n",
    "\n",
    "In this section, we'll cover the basic building blocks of Python programming, including syntax, variables, data types, operators, and strings.\n",
    "\n",
    "### **a. Syntax and Semantics**\n",
    "\n",
    "Python is an interpreted, high-level programming language known for its readability and simplicity. Proper indentation is crucial as it defines code blocks."
   ]
  },
  {
   "cell_type": "code",
   "execution_count": 8,
   "metadata": {},
   "outputs": [
    {
     "name": "stdout",
     "output_type": "stream",
     "text": [
      "Hello, Python!\n",
      "Five is greater than two!\n"
     ]
    }
   ],
   "source": [
    "# Printing a simple message\n",
    "print(\"Hello, Python!\")\n",
    "\n",
    "# Indentation example\n",
    "if 5 > 2:\n",
    "    print(\"Five is greater than two!\")"
   ]
  },
  {
   "cell_type": "markdown",
   "metadata": {},
   "source": [
    "**Explanation:**\n",
    "\n",
    "- **Print Statement:** The `print()` function outputs messages to the console.\n",
    "- **Indentation:** Python uses indentation (usually 4 spaces) to define code blocks instead of curly braces `{}`.\n",
    "\n",
    "### **b. Variables and Data Types**\n",
    "\n",
    "Variables store data values. Python has dynamic typing, meaning you don't need to declare variable types explicitly."
   ]
  },
  {
   "cell_type": "code",
   "execution_count": 9,
   "metadata": {},
   "outputs": [
    {
     "name": "stdout",
     "output_type": "stream",
     "text": [
      "<class 'int'>\n",
      "<class 'float'>\n",
      "<class 'str'>\n",
      "<class 'bool'>\n"
     ]
    }
   ],
   "source": [
    "# Variables and their data types\n",
    "x = 10              # Integer\n",
    "y = 3.14            # Float\n",
    "name = \"John\"       # String\n",
    "is_valid = True     # Boolean\n",
    "\n",
    "# Printing variable types\n",
    "print(type(x))      # Output: <class 'int'>\n",
    "print(type(y))      # Output: <class 'float'>\n",
    "print(type(name))   # Output: <class 'str'>\n",
    "print(type(is_valid)) # Output: <class 'bool'>"
   ]
  },
  {
   "cell_type": "markdown",
   "metadata": {},
   "source": [
    "**Explanation:**\n",
    "\n",
    "- **Integer (`int`):** Whole numbers.\n",
    "- **Float (`float`):** Numbers with decimal points.\n",
    "- **String (`str`):** Text data enclosed in quotes.\n",
    "- **Boolean (`bool`):** Logical values `True` or `False`.\n",
    "\n",
    "### **c. Basic Operators and Expressions**\n",
    "\n",
    "Operators are used to perform operations on variables and values."
   ]
  },
  {
   "cell_type": "code",
   "execution_count": 10,
   "metadata": {},
   "outputs": [
    {
     "name": "stdout",
     "output_type": "stream",
     "text": [
      "Addition: 8\n",
      "Subtraction: 8\n",
      "Multiplication: 8\n",
      "Division: 3.0\n",
      "Is 5 greater than 3? True\n",
      "Is 3 equal to 3? True\n",
      "True and False: False\n",
      "True or False: True\n"
     ]
    }
   ],
   "source": [
    "# Arithmetic operators\n",
    "add = 5 + 3          # Addition\n",
    "sub = 10 - 2         # Subtraction\n",
    "mul = 4 * 2          # Multiplication\n",
    "div = 9 / 3          # Division\n",
    "\n",
    "print(\"Addition:\", add)\n",
    "print(\"Subtraction:\", sub)\n",
    "print(\"Multiplication:\", mul)\n",
    "print(\"Division:\", div)\n",
    "\n",
    "# Comparison operators\n",
    "print(\"Is 5 greater than 3?\", 5 > 3)    # True\n",
    "print(\"Is 3 equal to 3?\", 3 == 3)       # True\n",
    "\n",
    "# Logical operators\n",
    "print(\"True and False:\", True and False)  # False\n",
    "print(\"True or False:\", True or False)    # True"
   ]
  },
  {
   "cell_type": "markdown",
   "metadata": {},
   "source": [
    "**Explanation:**\n",
    "\n",
    "- **Arithmetic Operators:** `+`, `-`, `*`, `/`\n",
    "- **Comparison Operators:** `>`, `<`, `==`, `!=`, `>=`, `<=`\n",
    "- **Logical Operators:** `and`, `or`, `not`\n",
    "\n",
    "### **d. Strings and String Formatting**\n",
    "\n",
    "Strings are sequences of characters. Python provides various ways to manipulate and format strings."
   ]
  },
  {
   "cell_type": "code",
   "execution_count": 11,
   "metadata": {},
   "outputs": [
    {
     "name": "stdout",
     "output_type": "stream",
     "text": [
      "Hello, Alice!\n",
      "Hello, Alice!\n",
      "HELLO\n",
      "hello\n",
      "5\n"
     ]
    }
   ],
   "source": [
    "# String concatenation\n",
    "greeting = \"Hello\"\n",
    "name = \"Alice\"\n",
    "message = greeting + \", \" + name + \"!\"\n",
    "print(message)\n",
    "\n",
    "# String formatting using f-strings\n",
    "formatted_message = f\"{greeting}, {name}!\"\n",
    "print(formatted_message)\n",
    "\n",
    "# String methods\n",
    "print(greeting.upper())   # Converts to uppercase\n",
    "print(greeting.lower())   # Converts to lowercase\n",
    "print(len(greeting))      # Returns the length of the string"
   ]
  },
  {
   "cell_type": "markdown",
   "metadata": {},
   "source": [
    "**Explanation:**\n",
    "\n",
    "- **Concatenation:** Combining strings using `+`.\n",
    "- **f-Strings:** Formatted string literals for embedding expressions.\n",
    "- **String Methods:** Functions like `.upper()`, `.lower()`, and `len()` to manipulate strings."
   ]
  },
  {
   "cell_type": "markdown",
   "metadata": {},
   "source": [
    "## **2. Functions and Modular Code**\n",
    "\n",
    "Functions are reusable blocks of code that perform a specific task. They help in organizing code into modular chunks.\n",
    "\n",
    "### **a. Defining and Invoking Functions**"
   ]
  },
  {
   "cell_type": "code",
   "execution_count": 12,
   "metadata": {},
   "outputs": [
    {
     "name": "stdout",
     "output_type": "stream",
     "text": [
      "Hello, Alice!\n",
      "Hello, Bob!\n"
     ]
    }
   ],
   "source": [
    "def greet(name):\n",
    "    return f\"Hello, {name}!\"\n",
    "\n",
    "# Calling the function\n",
    "print(greet(\"Alice\"))\n",
    "print(greet(\"Bob\"))"
   ]
  },
  {
   "cell_type": "markdown",
   "metadata": {},
   "source": [
    "\n",
    "**Explanation:**\n",
    "\n",
    "- **Defining Functions:** Use the `def` keyword.\n",
    "- **Parameters:** Variables listed inside the parentheses in the function definition.\n",
    "- **Return Statement:** Sends back a value from the function.\n",
    "\n",
    "### **b. Scope and Lifetime of Variables**\n",
    "\n",
    "Scope refers to the visibility of variables within different parts of the code."
   ]
  },
  {
   "cell_type": "code",
   "execution_count": 13,
   "metadata": {},
   "outputs": [
    {
     "name": "stdout",
     "output_type": "stream",
     "text": [
      "I am local\n",
      "I am global\n",
      "I am global\n"
     ]
    }
   ],
   "source": [
    "# Global vs Local variables\n",
    "global_var = \"I am global\"\n",
    "\n",
    "def my_function():\n",
    "    local_var = \"I am local\"\n",
    "    print(local_var)\n",
    "    print(global_var)\n",
    "\n",
    "my_function()\n",
    "# print(local_var)  # This will cause an error because local_var is not accessible outside the function\n",
    "print(global_var)    # Accessible anywhere"
   ]
  },
  {
   "cell_type": "markdown",
   "metadata": {},
   "source": [
    "**Explanation:**\n",
    "\n",
    "- **Local Variables:** Defined inside a function and not accessible outside.\n",
    "- **Global Variables:** Defined outside functions and accessible throughout the script.\n",
    "\n",
    "### **c. Lambda Functions and Higher-Order Functions**\n",
    "\n",
    "Lambda functions are anonymous, inline functions defined using the `lambda` keyword."
   ]
  },
  {
   "cell_type": "code",
   "execution_count": 14,
   "metadata": {},
   "outputs": [
    {
     "name": "stdout",
     "output_type": "stream",
     "text": [
      "Sum: 8\n",
      "Squared Numbers: [1, 4, 9, 16]\n"
     ]
    }
   ],
   "source": [
    "# Lambda function for addition\n",
    "add = lambda x, y: x + y\n",
    "print(\"Sum:\", add(5, 3))\n",
    "\n",
    "# Higher-order function example with map()\n",
    "nums = [1, 2, 3, 4]\n",
    "squared = list(map(lambda x: x**2, nums))\n",
    "print(\"Squared Numbers:\", squared)"
   ]
  },
  {
   "cell_type": "markdown",
   "metadata": {},
   "source": [
    "**Explanation:**\n",
    "\n",
    "- **Lambda Functions:** Small, anonymous functions.\n",
    "- **Higher-Order Functions:** Functions that take other functions as arguments (e.g., `map()`, `filter()`).\n",
    "\n",
    "---\n",
    "\n",
    "## **3. Classes**\n",
    "\n",
    "Classes are blueprints for creating objects (instances). They encapsulate data for the object and methods to manipulate that data."
   ]
  },
  {
   "cell_type": "code",
   "execution_count": 15,
   "metadata": {},
   "outputs": [
    {
     "name": "stdout",
     "output_type": "stream",
     "text": [
      "Rex says woof!\n",
      "Buddy says woof!\n"
     ]
    }
   ],
   "source": [
    "# Creating a class in Python\n",
    "class Dog:\n",
    "    # Constructor method\n",
    "    def __init__(self, a, b):\n",
    "        self.name = a\n",
    "        self.breed = b\n",
    "    \n",
    "    # Method to make the dog bark\n",
    "    def bark(self):\n",
    "        return f\"{self.name} says woof!\"\n",
    "\n",
    "# Creating instances of the class\n",
    "dog1 = Dog(\"Rex\", \"Labrador\")\n",
    "dog2 = Dog(\"Buddy\", \"Golden Retriever\")\n",
    "\n",
    "print(dog1.bark())\n",
    "print(dog2.bark())"
   ]
  },
  {
   "cell_type": "code",
   "execution_count": 16,
   "metadata": {},
   "outputs": [
    {
     "data": {
      "text/plain": [
       "'Rex'"
      ]
     },
     "execution_count": 16,
     "metadata": {},
     "output_type": "execute_result"
    }
   ],
   "source": [
    "dog1.name"
   ]
  },
  {
   "cell_type": "markdown",
   "metadata": {},
   "source": [
    "**Explanation:**\n",
    "\n",
    "- **Class Definition:** Use the `class` keyword.\n",
    "- **Constructor (`__init__`):** Initializes object attributes.\n",
    "- **Methods:** Functions defined within a class.\n",
    "\n",
    "---\n",
    "\n",
    "## **4. Reading Files and API**\n",
    "\n",
    "Handling files and interacting with web APIs are common tasks in programming.\n",
    "\n",
    "### **a. Reading Files**"
   ]
  },
  {
   "cell_type": "code",
   "execution_count": 17,
   "metadata": {},
   "outputs": [
    {
     "ename": "FileNotFoundError",
     "evalue": "[Errno 2] No such file or directory: 'example1.txt'",
     "output_type": "error",
     "traceback": [
      "\u001b[0;31m---------------------------------------------------------------------------\u001b[0m",
      "\u001b[0;31mFileNotFoundError\u001b[0m                         Traceback (most recent call last)",
      "Cell \u001b[0;32mIn[17], line 6\u001b[0m\n\u001b[1;32m      3\u001b[0m     file\u001b[38;5;241m.\u001b[39mwrite(\u001b[38;5;124m\"\u001b[39m\u001b[38;5;124mHello, this is a sample file.\u001b[39m\u001b[38;5;130;01m\\n\u001b[39;00m\u001b[38;5;124mWelcome to file handling in Python.\u001b[39m\u001b[38;5;124m\"\u001b[39m)\n\u001b[1;32m      5\u001b[0m \u001b[38;5;66;03m# Reading from a text file\u001b[39;00m\n\u001b[0;32m----> 6\u001b[0m \u001b[38;5;28;01mwith\u001b[39;00m \u001b[38;5;28;43mopen\u001b[39;49m\u001b[43m(\u001b[49m\u001b[38;5;124;43m'\u001b[39;49m\u001b[38;5;124;43mexample1.txt\u001b[39;49m\u001b[38;5;124;43m'\u001b[39;49m\u001b[43m,\u001b[49m\u001b[43m \u001b[49m\u001b[38;5;124;43m'\u001b[39;49m\u001b[38;5;124;43mr\u001b[39;49m\u001b[38;5;124;43m'\u001b[39;49m\u001b[43m)\u001b[49m \u001b[38;5;28;01mas\u001b[39;00m file:\n\u001b[1;32m      7\u001b[0m     content \u001b[38;5;241m=\u001b[39m file\u001b[38;5;241m.\u001b[39mread()\n\u001b[1;32m      8\u001b[0m     \u001b[38;5;28mprint\u001b[39m(\u001b[38;5;124m\"\u001b[39m\u001b[38;5;124mFile Content:\u001b[39m\u001b[38;5;130;01m\\n\u001b[39;00m\u001b[38;5;124m\"\u001b[39m, content)\n",
      "File \u001b[0;32m~/DevOps-Course-Python/venv-ops/lib/python3.10/site-packages/IPython/core/interactiveshell.py:324\u001b[0m, in \u001b[0;36m_modified_open\u001b[0;34m(file, *args, **kwargs)\u001b[0m\n\u001b[1;32m    317\u001b[0m \u001b[38;5;28;01mif\u001b[39;00m file \u001b[38;5;129;01min\u001b[39;00m {\u001b[38;5;241m0\u001b[39m, \u001b[38;5;241m1\u001b[39m, \u001b[38;5;241m2\u001b[39m}:\n\u001b[1;32m    318\u001b[0m     \u001b[38;5;28;01mraise\u001b[39;00m \u001b[38;5;167;01mValueError\u001b[39;00m(\n\u001b[1;32m    319\u001b[0m         \u001b[38;5;124mf\u001b[39m\u001b[38;5;124m\"\u001b[39m\u001b[38;5;124mIPython won\u001b[39m\u001b[38;5;124m'\u001b[39m\u001b[38;5;124mt let you open fd=\u001b[39m\u001b[38;5;132;01m{\u001b[39;00mfile\u001b[38;5;132;01m}\u001b[39;00m\u001b[38;5;124m by default \u001b[39m\u001b[38;5;124m\"\u001b[39m\n\u001b[1;32m    320\u001b[0m         \u001b[38;5;124m\"\u001b[39m\u001b[38;5;124mas it is likely to crash IPython. If you know what you are doing, \u001b[39m\u001b[38;5;124m\"\u001b[39m\n\u001b[1;32m    321\u001b[0m         \u001b[38;5;124m\"\u001b[39m\u001b[38;5;124myou can use builtins\u001b[39m\u001b[38;5;124m'\u001b[39m\u001b[38;5;124m open.\u001b[39m\u001b[38;5;124m\"\u001b[39m\n\u001b[1;32m    322\u001b[0m     )\n\u001b[0;32m--> 324\u001b[0m \u001b[38;5;28;01mreturn\u001b[39;00m \u001b[43mio_open\u001b[49m\u001b[43m(\u001b[49m\u001b[43mfile\u001b[49m\u001b[43m,\u001b[49m\u001b[43m \u001b[49m\u001b[38;5;241;43m*\u001b[39;49m\u001b[43margs\u001b[49m\u001b[43m,\u001b[49m\u001b[43m \u001b[49m\u001b[38;5;241;43m*\u001b[39;49m\u001b[38;5;241;43m*\u001b[39;49m\u001b[43mkwargs\u001b[49m\u001b[43m)\u001b[49m\n",
      "\u001b[0;31mFileNotFoundError\u001b[0m: [Errno 2] No such file or directory: 'example1.txt'"
     ]
    }
   ],
   "source": [
    "# Writing to a text file\n",
    "with open('example.txt', 'w') as file:\n",
    "    file.write(\"Hello, this is a sample file.\\nWelcome to file handling in Python.\")\n",
    "\n",
    "# Reading from a text file\n",
    "with open('example1.txt', 'r') as file:\n",
    "    content = file.read()\n",
    "    print(\"File Content:\\n\", content)"
   ]
  },
  {
   "cell_type": "markdown",
   "metadata": {},
   "source": [
    "**Explanation:**\n",
    "\n",
    "- **Opening Files:** Use `open()` with modes like `'r'` (read), `'w'` (write), `'a'` (append).\n",
    "- **Context Manager (`with`):** Ensures proper acquisition and release of resources.\n",
    "- **File Methods:** `.read()`, `.write()`, `.close()`\n",
    "\n",
    "### **b. API Calls using `requests`**"
   ]
  },
  {
   "cell_type": "code",
   "execution_count": null,
   "metadata": {},
   "outputs": [
    {
     "name": "stdout",
     "output_type": "stream",
     "text": [
      "Failed to retrieve data\n"
     ]
    }
   ],
   "source": [
    "import requests\n",
    "\n",
    "# Sending a GET request to a public API\n",
    "response = requests.get('https://api.agify.io?name=michael')\n",
    "\n",
    "# Checking if the request was successful\n",
    "if response.status_code == 200:\n",
    "    data = response.json()\n",
    "    print(\"API Response:\", data)\n",
    "else:\n",
    "    print(\"Failed to retrieve data\")"
   ]
  },
  {
   "cell_type": "markdown",
   "metadata": {},
   "source": [
    "**Explanation:**\n",
    "\n",
    "- **`requests` Library:** Used for making HTTP requests.\n",
    "- **HTTP Methods:** `GET`, `POST`, `PUT`, `DELETE`\n",
    "- **Response Handling:** Check `response.status_code` and parse data using `.json()`\n",
    "\n",
    "---\n",
    "\n",
    "## **5. Process Data with Pandas and NumPy**\n",
    "\n",
    "NumPy and Pandas are powerful libraries for numerical computations and data manipulation."
   ]
  },
  {
   "cell_type": "code",
   "execution_count": 19,
   "metadata": {},
   "outputs": [],
   "source": [
    "import numpy as np\n",
    "import pandas as pd"
   ]
  },
  {
   "cell_type": "markdown",
   "metadata": {},
   "source": [
    "### **NumPy**\n",
    "\n",
    "NumPy provides support for large, multi-dimensional arrays and matrices."
   ]
  },
  {
   "cell_type": "code",
   "execution_count": 20,
   "metadata": {},
   "outputs": [
    {
     "name": "stdout",
     "output_type": "stream",
     "text": [
      "NumPy Array: [1 2 3 4]\n",
      "Array multiplied by 2: [2 4 6 8]\n",
      "2D Array:\n",
      " [[1 2]\n",
      " [3 4]]\n"
     ]
    }
   ],
   "source": [
    "# Creating a NumPy array\n",
    "array = np.array([1, 2, 3, 4])\n",
    "print(\"NumPy Array:\", array)\n",
    "\n",
    "# Performing arithmetic operations\n",
    "print(\"Array multiplied by 2:\", array * 2)\n",
    "\n",
    "# Creating a 2D array (matrix)\n",
    "matrix = np.array([[1, 2], [3, 4]])\n",
    "print(\"2D Array:\\n\", matrix)"
   ]
  },
  {
   "cell_type": "code",
   "execution_count": 21,
   "metadata": {},
   "outputs": [
    {
     "name": "stdout",
     "output_type": "stream",
     "text": [
      "[ 1.5  3.5  5.   9.   8.  41. ]\n",
      "[19.          3.66666667]\n",
      "11.333333333333334\n"
     ]
    }
   ],
   "source": [
    "array = np.array([[1, 6, 10, 4, 13, 80],\n",
    "                  [2, 1, 0, 14, 3, 2]])\n",
    "print(array.mean(axis=0))\n",
    "print(array.mean(axis=1))\n",
    "print(array.mean())"
   ]
  },
  {
   "cell_type": "markdown",
   "metadata": {},
   "source": [
    "**Explanation:**\n",
    "\n",
    "- **Arrays vs Lists:** NumPy arrays are more efficient for numerical operations.\n",
    "- **Operations:** Element-wise arithmetic, mathematical functions.\n",
    "\n",
    "### **Pandas**\n",
    "\n",
    "Pandas is used for data manipulation and analysis, providing data structures like Series and DataFrame."
   ]
  },
  {
   "cell_type": "code",
   "execution_count": 22,
   "metadata": {},
   "outputs": [
    {
     "name": "stdout",
     "output_type": "stream",
     "text": [
      "DataFrame:\n",
      "       Name  Age  Score\n",
      "0    Alice   25   85.5\n",
      "1      Bob   30   90.0\n",
      "2  Charlie   35   95.5\n",
      "Names Column:\n",
      " 0      Alice\n",
      "1        Bob\n",
      "2    Charlie\n",
      "Name: Name, dtype: object\n",
      "Statistical Summary:\n",
      "         Age      Score\n",
      "count   3.0   3.000000\n",
      "mean   30.0  90.333333\n",
      "std     5.0   5.008326\n",
      "min    25.0  85.500000\n",
      "25%    27.5  87.750000\n",
      "50%    30.0  90.000000\n",
      "75%    32.5  92.750000\n",
      "max    35.0  95.500000\n",
      "Updated DataFrame:\n",
      "       Name  Age  Score  Passed\n",
      "0    Alice   25   85.5   False\n",
      "1      Bob   30   90.0    True\n",
      "2  Charlie   35   95.5    True\n"
     ]
    }
   ],
   "source": [
    "# Creating a DataFrame from a dictionary\n",
    "data = {\n",
    "    'Name': ['Alice', 'Bob', 'Charlie'],\n",
    "    'Age': [25, 30, 35],\n",
    "    'Score': [85.5, 90.0, 95.5]\n",
    "}\n",
    "df = pd.DataFrame(data)\n",
    "print(\"DataFrame:\\n\", df)\n",
    "\n",
    "# Selecting a specific column\n",
    "names = df['Name']\n",
    "print(\"Names Column:\\n\", names)\n",
    "\n",
    "# Descriptive statistics\n",
    "print(\"Statistical Summary:\\n\", df.describe())\n",
    "\n",
    "# Adding a new column\n",
    "df['Passed'] = df['Score'] > 88\n",
    "print(\"Updated DataFrame:\\n\", df)\n",
    "\n",
    "# Reading data from a CSV file (assuming 'data.csv' exists)\n",
    "\n",
    "# print(df_csv.head())"
   ]
  },
  {
   "cell_type": "code",
   "execution_count": 39,
   "metadata": {},
   "outputs": [],
   "source": [
    "df.to_csv('data.csv')"
   ]
  },
  {
   "cell_type": "markdown",
   "metadata": {},
   "source": [
    "**Explanation:**\n",
    "\n",
    "- **DataFrame:** 2D labeled data structure with columns of potentially different types.\n",
    "- **Basic Operations:** Selection, addition of columns, statistical summaries.\n",
    "- **Reading/Writing Data:** Use `pd.read_csv()` and `df.to_csv()` for CSV files.\n",
    "\n",
    "---"
   ]
  },
  {
   "cell_type": "code",
   "execution_count": null,
   "metadata": {},
   "outputs": [],
   "source": []
  }
 ],
 "metadata": {
  "kernelspec": {
   "display_name": "venv-ops",
   "language": "python",
   "name": "python3"
  },
  "language_info": {
   "codemirror_mode": {
    "name": "ipython",
    "version": 3
   },
   "file_extension": ".py",
   "mimetype": "text/x-python",
   "name": "python",
   "nbconvert_exporter": "python",
   "pygments_lexer": "ipython3",
   "version": "3.10.12"
  }
 },
 "nbformat": 4,
 "nbformat_minor": 2
}
